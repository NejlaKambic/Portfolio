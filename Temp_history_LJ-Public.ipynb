{
 "cells": [
  {
   "cell_type": "markdown",
   "id": "9508bb0c",
   "metadata": {},
   "source": [
    "# Temperature history of Ljubljana"
   ]
  },
  {
   "cell_type": "markdown",
   "id": "9a80ff7e",
   "metadata": {},
   "source": [
    "This script assesses the yearly temperature average measured in Ljubljana, Slovenia. The data is sourced from a Copernicus dataset that includes daily average temperatures of 1000 cities from around the world. Years range from 1980 to 2020, where the 2020 data only reaches September. Thus, some analysis will be done until 2019 only."
   ]
  },
  {
   "cell_type": "markdown",
   "id": "89661b5e",
   "metadata": {},
   "source": [
    "Data source: [Kaggle](https://www.kaggle.com/datasets/hansukyang/temperature-history-of-1000-cities-1980-to-2020)"
   ]
  },
  {
   "cell_type": "markdown",
   "id": "257878b3",
   "metadata": {},
   "source": [
    "## Table of Contents\n",
    "* [Exploring the dataset](#chapter1)\n",
    "* [Ljubljana](#chapter2)\n",
    "    * [Yearly distribution of temperature](#section_2_1)\n",
    "    * [Linear regression](#section_2_2)\n",
    "        * [Correlation](#sub_section_2_2_1)\n",
    "        * [Linear regression](#sub_section_2_2_2)\n",
    "        * [Assumption of regression](#sub_section_2_2_3)"
   ]
  },
  {
   "cell_type": "code",
   "execution_count": 3,
   "id": "a125e2c8",
   "metadata": {},
   "outputs": [],
   "source": [
    "# Import packages:\n",
    "\n",
    "import pandas as pd \n",
    "import numpy as np \n",
    "import matplotlib.pyplot as plt \n",
    "import math \n",
    "from sklearn.linear_model import LinearRegression\n",
    "import math \n",
    "import matplotlib.colors #colormaps\n",
    "from matplotlib import cm #colormaps\n",
    "import seaborn as sns\n",
    "import statsmodels.api as sm"
   ]
  },
  {
   "cell_type": "markdown",
   "id": "9f91d99c",
   "metadata": {},
   "source": [
    "## Exploring the dataset  <a class=\"anchor\" id=\"chapter1\"></a>"
   ]
  },
  {
   "cell_type": "code",
   "execution_count": 6,
   "id": "76808ac3",
   "metadata": {},
   "outputs": [
    {
     "data": {
      "text/html": [
       "<div>\n",
       "<style scoped>\n",
       "    .dataframe tbody tr th:only-of-type {\n",
       "        vertical-align: middle;\n",
       "    }\n",
       "\n",
       "    .dataframe tbody tr th {\n",
       "        vertical-align: top;\n",
       "    }\n",
       "\n",
       "    .dataframe thead th {\n",
       "        text-align: right;\n",
       "    }\n",
       "</style>\n",
       "<table border=\"1\" class=\"dataframe\">\n",
       "  <thead>\n",
       "    <tr style=\"text-align: right;\">\n",
       "      <th></th>\n",
       "      <th>date</th>\n",
       "      <th>Tokyo</th>\n",
       "      <th>New York</th>\n",
       "      <th>Mexico City</th>\n",
       "      <th>Mumbai</th>\n",
       "      <th>São Paulo</th>\n",
       "      <th>Delhi</th>\n",
       "      <th>Shanghai</th>\n",
       "      <th>Kolkata</th>\n",
       "      <th>Los Angeles</th>\n",
       "      <th>...</th>\n",
       "      <th>Bilāspur</th>\n",
       "      <th>Sargodha</th>\n",
       "      <th>Leipzig</th>\n",
       "      <th>Tinnevelly</th>\n",
       "      <th>Cancún</th>\n",
       "      <th>Yangzhou</th>\n",
       "      <th>Novokuznetsk</th>\n",
       "      <th>Latakia</th>\n",
       "      <th>Heroica Matamoros</th>\n",
       "      <th>Göteborg</th>\n",
       "    </tr>\n",
       "  </thead>\n",
       "  <tbody>\n",
       "    <tr>\n",
       "      <th>0</th>\n",
       "      <td>1980-01-01</td>\n",
       "      <td>4.16</td>\n",
       "      <td>1.48</td>\n",
       "      <td>11.35</td>\n",
       "      <td>23.40</td>\n",
       "      <td>17.86</td>\n",
       "      <td>13.74</td>\n",
       "      <td>9.10</td>\n",
       "      <td>20.47</td>\n",
       "      <td>14.24</td>\n",
       "      <td>...</td>\n",
       "      <td>22.14</td>\n",
       "      <td>11.54</td>\n",
       "      <td>0.67</td>\n",
       "      <td>24.05</td>\n",
       "      <td>21.21</td>\n",
       "      <td>3.71</td>\n",
       "      <td>-13.88</td>\n",
       "      <td>11.68</td>\n",
       "      <td>17.67</td>\n",
       "      <td>-0.82</td>\n",
       "    </tr>\n",
       "    <tr>\n",
       "      <th>1</th>\n",
       "      <td>1980-01-02</td>\n",
       "      <td>4.06</td>\n",
       "      <td>1.00</td>\n",
       "      <td>10.01</td>\n",
       "      <td>22.67</td>\n",
       "      <td>18.65</td>\n",
       "      <td>12.85</td>\n",
       "      <td>6.40</td>\n",
       "      <td>19.37</td>\n",
       "      <td>13.77</td>\n",
       "      <td>...</td>\n",
       "      <td>22.26</td>\n",
       "      <td>11.13</td>\n",
       "      <td>-0.88</td>\n",
       "      <td>24.19</td>\n",
       "      <td>23.29</td>\n",
       "      <td>3.26</td>\n",
       "      <td>-15.05</td>\n",
       "      <td>13.71</td>\n",
       "      <td>17.70</td>\n",
       "      <td>-5.25</td>\n",
       "    </tr>\n",
       "    <tr>\n",
       "      <th>2</th>\n",
       "      <td>1980-01-03</td>\n",
       "      <td>7.12</td>\n",
       "      <td>-3.23</td>\n",
       "      <td>9.67</td>\n",
       "      <td>22.30</td>\n",
       "      <td>18.42</td>\n",
       "      <td>10.50</td>\n",
       "      <td>5.43</td>\n",
       "      <td>18.71</td>\n",
       "      <td>12.08</td>\n",
       "      <td>...</td>\n",
       "      <td>21.09</td>\n",
       "      <td>10.28</td>\n",
       "      <td>-4.30</td>\n",
       "      <td>24.39</td>\n",
       "      <td>24.04</td>\n",
       "      <td>2.17</td>\n",
       "      <td>-14.19</td>\n",
       "      <td>13.00</td>\n",
       "      <td>11.19</td>\n",
       "      <td>-13.00</td>\n",
       "    </tr>\n",
       "    <tr>\n",
       "      <th>3</th>\n",
       "      <td>1980-01-04</td>\n",
       "      <td>9.23</td>\n",
       "      <td>-1.81</td>\n",
       "      <td>10.12</td>\n",
       "      <td>23.40</td>\n",
       "      <td>19.21</td>\n",
       "      <td>10.87</td>\n",
       "      <td>2.29</td>\n",
       "      <td>18.76</td>\n",
       "      <td>11.19</td>\n",
       "      <td>...</td>\n",
       "      <td>20.39</td>\n",
       "      <td>10.98</td>\n",
       "      <td>-6.75</td>\n",
       "      <td>24.12</td>\n",
       "      <td>21.49</td>\n",
       "      <td>-0.95</td>\n",
       "      <td>-15.09</td>\n",
       "      <td>12.67</td>\n",
       "      <td>14.22</td>\n",
       "      <td>-11.75</td>\n",
       "    </tr>\n",
       "    <tr>\n",
       "      <th>4</th>\n",
       "      <td>1980-01-05</td>\n",
       "      <td>3.20</td>\n",
       "      <td>-4.31</td>\n",
       "      <td>10.81</td>\n",
       "      <td>23.98</td>\n",
       "      <td>21.34</td>\n",
       "      <td>11.03</td>\n",
       "      <td>2.40</td>\n",
       "      <td>18.62</td>\n",
       "      <td>12.78</td>\n",
       "      <td>...</td>\n",
       "      <td>19.51</td>\n",
       "      <td>11.27</td>\n",
       "      <td>0.10</td>\n",
       "      <td>23.86</td>\n",
       "      <td>21.20</td>\n",
       "      <td>-0.66</td>\n",
       "      <td>-13.85</td>\n",
       "      <td>10.09</td>\n",
       "      <td>18.30</td>\n",
       "      <td>-2.72</td>\n",
       "    </tr>\n",
       "  </tbody>\n",
       "</table>\n",
       "<p>5 rows × 1001 columns</p>\n",
       "</div>"
      ],
      "text/plain": [
       "         date  Tokyo  New York  Mexico City  Mumbai  São Paulo  Delhi  \\\n",
       "0  1980-01-01   4.16      1.48        11.35   23.40      17.86  13.74   \n",
       "1  1980-01-02   4.06      1.00        10.01   22.67      18.65  12.85   \n",
       "2  1980-01-03   7.12     -3.23         9.67   22.30      18.42  10.50   \n",
       "3  1980-01-04   9.23     -1.81        10.12   23.40      19.21  10.87   \n",
       "4  1980-01-05   3.20     -4.31        10.81   23.98      21.34  11.03   \n",
       "\n",
       "   Shanghai  Kolkata  Los Angeles  ...  Bilāspur  Sargodha  Leipzig  \\\n",
       "0      9.10    20.47        14.24  ...     22.14     11.54     0.67   \n",
       "1      6.40    19.37        13.77  ...     22.26     11.13    -0.88   \n",
       "2      5.43    18.71        12.08  ...     21.09     10.28    -4.30   \n",
       "3      2.29    18.76        11.19  ...     20.39     10.98    -6.75   \n",
       "4      2.40    18.62        12.78  ...     19.51     11.27     0.10   \n",
       "\n",
       "   Tinnevelly  Cancún  Yangzhou  Novokuznetsk  Latakia  Heroica Matamoros  \\\n",
       "0       24.05   21.21      3.71        -13.88    11.68              17.67   \n",
       "1       24.19   23.29      3.26        -15.05    13.71              17.70   \n",
       "2       24.39   24.04      2.17        -14.19    13.00              11.19   \n",
       "3       24.12   21.49     -0.95        -15.09    12.67              14.22   \n",
       "4       23.86   21.20     -0.66        -13.85    10.09              18.30   \n",
       "\n",
       "   Göteborg  \n",
       "0     -0.82  \n",
       "1     -5.25  \n",
       "2    -13.00  \n",
       "3    -11.75  \n",
       "4     -2.72  \n",
       "\n",
       "[5 rows x 1001 columns]"
      ]
     },
     "execution_count": 6,
     "metadata": {},
     "output_type": "execute_result"
    }
   ],
   "source": [
    "# Import file\n",
    "\n",
    "df = pd.read_csv('Kaggle/daily_temperature_1000_cities_1980_2020.csv', header=1, skiprows=[2,3,4,5,6,7,8,9,10,11,12])\n",
    "df.rename(columns={'city':'date'}, inplace=True) #rename header name\n",
    "df.head(5)\n",
    "#df.tail(5)"
   ]
  },
  {
   "cell_type": "code",
   "execution_count": 7,
   "id": "b3822569",
   "metadata": {},
   "outputs": [
    {
     "data": {
      "text/html": [
       "<div>\n",
       "<style scoped>\n",
       "    .dataframe tbody tr th:only-of-type {\n",
       "        vertical-align: middle;\n",
       "    }\n",
       "\n",
       "    .dataframe tbody tr th {\n",
       "        vertical-align: top;\n",
       "    }\n",
       "\n",
       "    .dataframe thead th {\n",
       "        text-align: right;\n",
       "    }\n",
       "</style>\n",
       "<table border=\"1\" class=\"dataframe\">\n",
       "  <thead>\n",
       "    <tr style=\"text-align: right;\">\n",
       "      <th></th>\n",
       "      <th>Tokyo</th>\n",
       "      <th>New York</th>\n",
       "      <th>Mexico City</th>\n",
       "      <th>Mumbai</th>\n",
       "      <th>São Paulo</th>\n",
       "      <th>Delhi</th>\n",
       "      <th>Shanghai</th>\n",
       "      <th>Kolkata</th>\n",
       "      <th>Los Angeles</th>\n",
       "      <th>Dhaka</th>\n",
       "      <th>...</th>\n",
       "      <th>Bilāspur</th>\n",
       "      <th>Sargodha</th>\n",
       "      <th>Leipzig</th>\n",
       "      <th>Tinnevelly</th>\n",
       "      <th>Cancún</th>\n",
       "      <th>Yangzhou</th>\n",
       "      <th>Novokuznetsk</th>\n",
       "      <th>Latakia</th>\n",
       "      <th>Heroica Matamoros</th>\n",
       "      <th>Göteborg</th>\n",
       "    </tr>\n",
       "  </thead>\n",
       "  <tbody>\n",
       "    <tr>\n",
       "      <th>count</th>\n",
       "      <td>14884.000000</td>\n",
       "      <td>14884.000000</td>\n",
       "      <td>14884.000000</td>\n",
       "      <td>14884.000000</td>\n",
       "      <td>14884.000000</td>\n",
       "      <td>14884.000000</td>\n",
       "      <td>14884.000000</td>\n",
       "      <td>14884.000000</td>\n",
       "      <td>14884.000000</td>\n",
       "      <td>14884.000000</td>\n",
       "      <td>...</td>\n",
       "      <td>14884.000000</td>\n",
       "      <td>14884.000000</td>\n",
       "      <td>14884.000000</td>\n",
       "      <td>14884.000000</td>\n",
       "      <td>14884.000000</td>\n",
       "      <td>14884.000000</td>\n",
       "      <td>14884.000000</td>\n",
       "      <td>14884.000000</td>\n",
       "      <td>14884.000000</td>\n",
       "      <td>14884.000000</td>\n",
       "    </tr>\n",
       "    <tr>\n",
       "      <th>mean</th>\n",
       "      <td>15.748201</td>\n",
       "      <td>12.402294</td>\n",
       "      <td>14.985392</td>\n",
       "      <td>26.548575</td>\n",
       "      <td>19.806856</td>\n",
       "      <td>24.774463</td>\n",
       "      <td>16.816658</td>\n",
       "      <td>26.238726</td>\n",
       "      <td>17.219675</td>\n",
       "      <td>25.615314</td>\n",
       "      <td>...</td>\n",
       "      <td>26.615312</td>\n",
       "      <td>24.361660</td>\n",
       "      <td>9.808599</td>\n",
       "      <td>28.365179</td>\n",
       "      <td>26.038744</td>\n",
       "      <td>15.865681</td>\n",
       "      <td>2.344670</td>\n",
       "      <td>19.245169</td>\n",
       "      <td>23.630688</td>\n",
       "      <td>7.677228</td>\n",
       "    </tr>\n",
       "    <tr>\n",
       "      <th>std</th>\n",
       "      <td>7.946608</td>\n",
       "      <td>9.388593</td>\n",
       "      <td>2.456274</td>\n",
       "      <td>1.776946</td>\n",
       "      <td>3.280561</td>\n",
       "      <td>7.188223</td>\n",
       "      <td>8.697728</td>\n",
       "      <td>4.211970</td>\n",
       "      <td>4.918928</td>\n",
       "      <td>4.139583</td>\n",
       "      <td>...</td>\n",
       "      <td>5.069008</td>\n",
       "      <td>8.096094</td>\n",
       "      <td>7.668969</td>\n",
       "      <td>2.146033</td>\n",
       "      <td>1.758168</td>\n",
       "      <td>9.299423</td>\n",
       "      <td>13.621992</td>\n",
       "      <td>5.568069</td>\n",
       "      <td>5.418240</td>\n",
       "      <td>7.177451</td>\n",
       "    </tr>\n",
       "    <tr>\n",
       "      <th>min</th>\n",
       "      <td>-5.110000</td>\n",
       "      <td>-16.920000</td>\n",
       "      <td>5.670000</td>\n",
       "      <td>18.600000</td>\n",
       "      <td>7.090000</td>\n",
       "      <td>5.920000</td>\n",
       "      <td>-6.210000</td>\n",
       "      <td>13.370000</td>\n",
       "      <td>1.990000</td>\n",
       "      <td>10.810000</td>\n",
       "      <td>...</td>\n",
       "      <td>13.360000</td>\n",
       "      <td>6.030000</td>\n",
       "      <td>-19.620000</td>\n",
       "      <td>21.910000</td>\n",
       "      <td>16.510000</td>\n",
       "      <td>-7.810000</td>\n",
       "      <td>-44.010000</td>\n",
       "      <td>2.020000</td>\n",
       "      <td>-4.050000</td>\n",
       "      <td>-22.500000</td>\n",
       "    </tr>\n",
       "    <tr>\n",
       "      <th>25%</th>\n",
       "      <td>8.460000</td>\n",
       "      <td>4.770000</td>\n",
       "      <td>13.370000</td>\n",
       "      <td>25.580000</td>\n",
       "      <td>17.630000</td>\n",
       "      <td>18.400000</td>\n",
       "      <td>9.160000</td>\n",
       "      <td>23.160000</td>\n",
       "      <td>13.367500</td>\n",
       "      <td>22.517500</td>\n",
       "      <td>...</td>\n",
       "      <td>22.800000</td>\n",
       "      <td>16.800000</td>\n",
       "      <td>4.000000</td>\n",
       "      <td>26.580000</td>\n",
       "      <td>25.050000</td>\n",
       "      <td>7.610000</td>\n",
       "      <td>-7.830000</td>\n",
       "      <td>14.420000</td>\n",
       "      <td>20.370000</td>\n",
       "      <td>2.517500</td>\n",
       "    </tr>\n",
       "    <tr>\n",
       "      <th>50%</th>\n",
       "      <td>16.230000</td>\n",
       "      <td>12.680000</td>\n",
       "      <td>15.310000</td>\n",
       "      <td>26.720000</td>\n",
       "      <td>20.090000</td>\n",
       "      <td>26.790000</td>\n",
       "      <td>17.620000</td>\n",
       "      <td>27.790000</td>\n",
       "      <td>16.950000</td>\n",
       "      <td>27.170000</td>\n",
       "      <td>...</td>\n",
       "      <td>26.830000</td>\n",
       "      <td>25.900000</td>\n",
       "      <td>10.040000</td>\n",
       "      <td>28.580000</td>\n",
       "      <td>26.320000</td>\n",
       "      <td>16.780000</td>\n",
       "      <td>3.370000</td>\n",
       "      <td>19.320000</td>\n",
       "      <td>24.790000</td>\n",
       "      <td>7.690000</td>\n",
       "    </tr>\n",
       "    <tr>\n",
       "      <th>75%</th>\n",
       "      <td>22.290000</td>\n",
       "      <td>20.960000</td>\n",
       "      <td>16.580000</td>\n",
       "      <td>27.760000</td>\n",
       "      <td>22.272500</td>\n",
       "      <td>30.450000</td>\n",
       "      <td>24.040000</td>\n",
       "      <td>29.310000</td>\n",
       "      <td>21.070000</td>\n",
       "      <td>28.790000</td>\n",
       "      <td>...</td>\n",
       "      <td>29.390000</td>\n",
       "      <td>31.420000</td>\n",
       "      <td>15.850000</td>\n",
       "      <td>29.970000</td>\n",
       "      <td>27.390000</td>\n",
       "      <td>23.860000</td>\n",
       "      <td>14.290000</td>\n",
       "      <td>24.582500</td>\n",
       "      <td>28.180000</td>\n",
       "      <td>13.610000</td>\n",
       "    </tr>\n",
       "    <tr>\n",
       "      <th>max</th>\n",
       "      <td>32.390000</td>\n",
       "      <td>31.670000</td>\n",
       "      <td>22.560000</td>\n",
       "      <td>31.460000</td>\n",
       "      <td>28.660000</td>\n",
       "      <td>40.340000</td>\n",
       "      <td>34.530000</td>\n",
       "      <td>35.380000</td>\n",
       "      <td>33.160000</td>\n",
       "      <td>32.690000</td>\n",
       "      <td>...</td>\n",
       "      <td>40.440000</td>\n",
       "      <td>39.930000</td>\n",
       "      <td>29.400000</td>\n",
       "      <td>34.120000</td>\n",
       "      <td>29.450000</td>\n",
       "      <td>33.810000</td>\n",
       "      <td>27.850000</td>\n",
       "      <td>30.840000</td>\n",
       "      <td>31.810000</td>\n",
       "      <td>25.710000</td>\n",
       "    </tr>\n",
       "  </tbody>\n",
       "</table>\n",
       "<p>8 rows × 1000 columns</p>\n",
       "</div>"
      ],
      "text/plain": [
       "              Tokyo      New York   Mexico City        Mumbai     São Paulo  \\\n",
       "count  14884.000000  14884.000000  14884.000000  14884.000000  14884.000000   \n",
       "mean      15.748201     12.402294     14.985392     26.548575     19.806856   \n",
       "std        7.946608      9.388593      2.456274      1.776946      3.280561   \n",
       "min       -5.110000    -16.920000      5.670000     18.600000      7.090000   \n",
       "25%        8.460000      4.770000     13.370000     25.580000     17.630000   \n",
       "50%       16.230000     12.680000     15.310000     26.720000     20.090000   \n",
       "75%       22.290000     20.960000     16.580000     27.760000     22.272500   \n",
       "max       32.390000     31.670000     22.560000     31.460000     28.660000   \n",
       "\n",
       "              Delhi      Shanghai       Kolkata   Los Angeles         Dhaka  \\\n",
       "count  14884.000000  14884.000000  14884.000000  14884.000000  14884.000000   \n",
       "mean      24.774463     16.816658     26.238726     17.219675     25.615314   \n",
       "std        7.188223      8.697728      4.211970      4.918928      4.139583   \n",
       "min        5.920000     -6.210000     13.370000      1.990000     10.810000   \n",
       "25%       18.400000      9.160000     23.160000     13.367500     22.517500   \n",
       "50%       26.790000     17.620000     27.790000     16.950000     27.170000   \n",
       "75%       30.450000     24.040000     29.310000     21.070000     28.790000   \n",
       "max       40.340000     34.530000     35.380000     33.160000     32.690000   \n",
       "\n",
       "       ...      Bilāspur      Sargodha       Leipzig    Tinnevelly  \\\n",
       "count  ...  14884.000000  14884.000000  14884.000000  14884.000000   \n",
       "mean   ...     26.615312     24.361660      9.808599     28.365179   \n",
       "std    ...      5.069008      8.096094      7.668969      2.146033   \n",
       "min    ...     13.360000      6.030000    -19.620000     21.910000   \n",
       "25%    ...     22.800000     16.800000      4.000000     26.580000   \n",
       "50%    ...     26.830000     25.900000     10.040000     28.580000   \n",
       "75%    ...     29.390000     31.420000     15.850000     29.970000   \n",
       "max    ...     40.440000     39.930000     29.400000     34.120000   \n",
       "\n",
       "             Cancún      Yangzhou  Novokuznetsk       Latakia  \\\n",
       "count  14884.000000  14884.000000  14884.000000  14884.000000   \n",
       "mean      26.038744     15.865681      2.344670     19.245169   \n",
       "std        1.758168      9.299423     13.621992      5.568069   \n",
       "min       16.510000     -7.810000    -44.010000      2.020000   \n",
       "25%       25.050000      7.610000     -7.830000     14.420000   \n",
       "50%       26.320000     16.780000      3.370000     19.320000   \n",
       "75%       27.390000     23.860000     14.290000     24.582500   \n",
       "max       29.450000     33.810000     27.850000     30.840000   \n",
       "\n",
       "       Heroica Matamoros      Göteborg  \n",
       "count       14884.000000  14884.000000  \n",
       "mean           23.630688      7.677228  \n",
       "std             5.418240      7.177451  \n",
       "min            -4.050000    -22.500000  \n",
       "25%            20.370000      2.517500  \n",
       "50%            24.790000      7.690000  \n",
       "75%            28.180000     13.610000  \n",
       "max            31.810000     25.710000  \n",
       "\n",
       "[8 rows x 1000 columns]"
      ]
     },
     "execution_count": 7,
     "metadata": {},
     "output_type": "execute_result"
    }
   ],
   "source": [
    "# Dataset summary\n",
    "df.describe()"
   ]
  },
  {
   "cell_type": "code",
   "execution_count": 8,
   "id": "82e03a9d",
   "metadata": {},
   "outputs": [
    {
     "data": {
      "text/plain": [
       "1000"
      ]
     },
     "execution_count": 8,
     "metadata": {},
     "output_type": "execute_result"
    }
   ],
   "source": [
    "# Number of cities:\n",
    "\n",
    "no_cities = df.shape[1] - 1\n",
    "no_cities"
   ]
  },
  {
   "cell_type": "code",
   "execution_count": 9,
   "id": "dcdb41c3",
   "metadata": {},
   "outputs": [
    {
     "data": {
      "text/plain": [
       "[]"
      ]
     },
     "execution_count": 9,
     "metadata": {},
     "output_type": "execute_result"
    }
   ],
   "source": [
    "# A list of columns that contain empty cells:\n",
    "\n",
    "df.columns[df.isna().any()].tolist()"
   ]
  },
  {
   "cell_type": "code",
   "execution_count": 10,
   "id": "8437920e",
   "metadata": {},
   "outputs": [
    {
     "data": {
      "text/plain": [
       "date                  object\n",
       "Tokyo                float64\n",
       "New York             float64\n",
       "Mexico City          float64\n",
       "Mumbai               float64\n",
       "                      ...   \n",
       "Yangzhou             float64\n",
       "Novokuznetsk         float64\n",
       "Latakia              float64\n",
       "Heroica Matamoros    float64\n",
       "Göteborg             float64\n",
       "Length: 1001, dtype: object"
      ]
     },
     "execution_count": 10,
     "metadata": {},
     "output_type": "execute_result"
    }
   ],
   "source": [
    "# Check data types\n",
    "df.dtypes"
   ]
  },
  {
   "cell_type": "code",
   "execution_count": 11,
   "id": "b5c8995f",
   "metadata": {},
   "outputs": [
    {
     "data": {
      "text/plain": [
       "date                 datetime64[ns]\n",
       "Tokyo                       float64\n",
       "New York                    float64\n",
       "Mexico City                 float64\n",
       "Mumbai                      float64\n",
       "                          ...      \n",
       "Yangzhou                    float64\n",
       "Novokuznetsk                float64\n",
       "Latakia                     float64\n",
       "Heroica Matamoros           float64\n",
       "Göteborg                    float64\n",
       "Length: 1001, dtype: object"
      ]
     },
     "execution_count": 11,
     "metadata": {},
     "output_type": "execute_result"
    }
   ],
   "source": [
    "# Convert 'date' column data to 'date time' type\n",
    "dates = pd.to_datetime(df.iloc[:,0])\n",
    "\n",
    "df['date'] = dates.values #replace the values in 'date' column with formated dates\n",
    "df.dtypes"
   ]
  },
  {
   "cell_type": "markdown",
   "id": "583fbd2f",
   "metadata": {},
   "source": [
    "Summary:\n",
    "- The first date with recorded temperature is January 1 1980\n",
    "- The last date with recorded temperature is September 30 2020\n",
    "- There is 1000 cities in the dataset\n",
    "- Each city contains 14884 records of temperature\n",
    "- There is no missing values\n",
    "- We converted *date* to appropriate data type"
   ]
  },
  {
   "cell_type": "markdown",
   "id": "2b3cf7c5",
   "metadata": {},
   "source": [
    "# Ljubljana <a class=\"anchor\" id=\"chapter2\"></a>"
   ]
  },
  {
   "cell_type": "markdown",
   "id": "f3920fd2",
   "metadata": {},
   "source": [
    "We want to extract data for Ljubljana, which is the city we are particualrly interested in."
   ]
  },
  {
   "cell_type": "code",
   "execution_count": 12,
   "id": "4ac9287c",
   "metadata": {},
   "outputs": [
    {
     "data": {
      "text/plain": [
       "Text(0.5, 1.0, 'Ljubljana')"
      ]
     },
     "execution_count": 12,
     "metadata": {},
     "output_type": "execute_result"
    },
    {
     "data": {
      "image/png": "[encoded data removed]",
      "text/plain": [
       "<Figure size 1080x720 with 1 Axes>"
      ]
     },
     "metadata": {
      "needs_background": "light"
     },
     "output_type": "display_data"
    }
   ],
   "source": [
    "# First look at Ljubljana's data\n",
    "\n",
    "plt.figure(figsize=(15,10))\n",
    "plt.scatter(dates, df.Ljubljana)\n",
    "plt.xlabel('Year')\n",
    "plt.ylabel('Average daily temperature [°C]')\n",
    "plt.title('Ljubljana')"
   ]
  },
  {
   "cell_type": "markdown",
   "id": "d707d10d",
   "metadata": {},
   "source": [
    "## Yearly distribution of temperature <a class=\"anchor\" id=\"section_2_1\"></a>"
   ]
  },
  {
   "cell_type": "markdown",
   "id": "e866ce7a",
   "metadata": {},
   "source": [
    "We would like to see what is the distribution of temperatures for a specific year. We compare the distributions of years that are further apart and have similar lengths, 1980 and 2019."
   ]
  },
  {
   "cell_type": "code",
   "execution_count": 13,
   "id": "5045f169",
   "metadata": {},
   "outputs": [],
   "source": [
    "# Extract year from 'date' and insert the new column at the end of the dataset\n",
    "df['year'] = df['date'].dt.year"
   ]
  },
  {
   "cell_type": "code",
   "execution_count": 14,
   "id": "01e40f39",
   "metadata": {},
   "outputs": [],
   "source": [
    "# Function that returns a new dataset that contains records of temperature for a desired year\n",
    "\n",
    "def lj_leto(data, year):\n",
    "    '''\n",
    "    Returns a dataframe that contains records of temperature for a desired year\n",
    "    \n",
    "    Parameters:\n",
    "    data - dataframe from which we extract values\n",
    "    year - desired year\n",
    "    '''\n",
    "    \n",
    "    lj_1 = data.loc[data['year'] == year, 'Ljubljana'].to_frame(name=year).reset_index(drop=True)\n",
    "    return lj_1"
   ]
  },
  {
   "cell_type": "code",
   "execution_count": 15,
   "id": "4c820e06",
   "metadata": {},
   "outputs": [],
   "source": [
    "lj_1980 = lj_leto(df, 1980)\n",
    "lj_1990 = lj_leto(df, 1990)\n",
    "lj_2000 = lj_leto(df, 2000)\n",
    "lj_2010 = lj_leto(df, 2010)\n",
    "lj_2019 = lj_leto(df, 2019)\n",
    "lj_2020 = lj_leto(df, 2020)\n",
    "\n",
    "#desired_years = [1980, 1990, 2000, 2010, 2019, 2020]"
   ]
  },
  {
   "cell_type": "code",
   "execution_count": 16,
   "id": "3d339e2c",
   "metadata": {},
   "outputs": [
    {
     "data": {
      "text/html": [
       "<div>\n",
       "<style scoped>\n",
       "    .dataframe tbody tr th:only-of-type {\n",
       "        vertical-align: middle;\n",
       "    }\n",
       "\n",
       "    .dataframe tbody tr th {\n",
       "        vertical-align: top;\n",
       "    }\n",
       "\n",
       "    .dataframe thead th {\n",
       "        text-align: right;\n",
       "    }\n",
       "</style>\n",
       "<table border=\"1\" class=\"dataframe\">\n",
       "  <thead>\n",
       "    <tr style=\"text-align: right;\">\n",
       "      <th></th>\n",
       "      <th>1980</th>\n",
       "      <th>1990</th>\n",
       "      <th>2000</th>\n",
       "      <th>2010</th>\n",
       "      <th>2019</th>\n",
       "      <th>2020</th>\n",
       "    </tr>\n",
       "  </thead>\n",
       "  <tbody>\n",
       "    <tr>\n",
       "      <th>0</th>\n",
       "      <td>-5.36</td>\n",
       "      <td>-2.88</td>\n",
       "      <td>-7.14</td>\n",
       "      <td>5.64</td>\n",
       "      <td>1.76</td>\n",
       "      <td>0.02</td>\n",
       "    </tr>\n",
       "    <tr>\n",
       "      <th>1</th>\n",
       "      <td>-5.52</td>\n",
       "      <td>-3.16</td>\n",
       "      <td>-1.65</td>\n",
       "      <td>2.49</td>\n",
       "      <td>1.04</td>\n",
       "      <td>-0.36</td>\n",
       "    </tr>\n",
       "    <tr>\n",
       "      <th>2</th>\n",
       "      <td>-8.43</td>\n",
       "      <td>-2.55</td>\n",
       "      <td>-3.64</td>\n",
       "      <td>-4.17</td>\n",
       "      <td>-0.32</td>\n",
       "      <td>-0.40</td>\n",
       "    </tr>\n",
       "    <tr>\n",
       "      <th>3</th>\n",
       "      <td>-10.33</td>\n",
       "      <td>-3.58</td>\n",
       "      <td>-4.06</td>\n",
       "      <td>-4.37</td>\n",
       "      <td>-2.11</td>\n",
       "      <td>1.54</td>\n",
       "    </tr>\n",
       "    <tr>\n",
       "      <th>4</th>\n",
       "      <td>-3.56</td>\n",
       "      <td>-4.68</td>\n",
       "      <td>-3.60</td>\n",
       "      <td>-2.03</td>\n",
       "      <td>-1.31</td>\n",
       "      <td>1.43</td>\n",
       "    </tr>\n",
       "    <tr>\n",
       "      <th>...</th>\n",
       "      <td>...</td>\n",
       "      <td>...</td>\n",
       "      <td>...</td>\n",
       "      <td>...</td>\n",
       "      <td>...</td>\n",
       "      <td>...</td>\n",
       "    </tr>\n",
       "    <tr>\n",
       "      <th>361</th>\n",
       "      <td>0.41</td>\n",
       "      <td>1.69</td>\n",
       "      <td>5.07</td>\n",
       "      <td>-2.30</td>\n",
       "      <td>0.06</td>\n",
       "      <td>NaN</td>\n",
       "    </tr>\n",
       "    <tr>\n",
       "      <th>362</th>\n",
       "      <td>-1.63</td>\n",
       "      <td>0.49</td>\n",
       "      <td>3.45</td>\n",
       "      <td>-2.15</td>\n",
       "      <td>-2.29</td>\n",
       "      <td>NaN</td>\n",
       "    </tr>\n",
       "    <tr>\n",
       "      <th>363</th>\n",
       "      <td>-6.43</td>\n",
       "      <td>4.00</td>\n",
       "      <td>2.33</td>\n",
       "      <td>-1.53</td>\n",
       "      <td>-2.57</td>\n",
       "      <td>NaN</td>\n",
       "    </tr>\n",
       "    <tr>\n",
       "      <th>364</th>\n",
       "      <td>-6.55</td>\n",
       "      <td>3.95</td>\n",
       "      <td>0.14</td>\n",
       "      <td>-1.56</td>\n",
       "      <td>0.28</td>\n",
       "      <td>NaN</td>\n",
       "    </tr>\n",
       "    <tr>\n",
       "      <th>365</th>\n",
       "      <td>-5.95</td>\n",
       "      <td>NaN</td>\n",
       "      <td>-2.18</td>\n",
       "      <td>NaN</td>\n",
       "      <td>NaN</td>\n",
       "      <td>NaN</td>\n",
       "    </tr>\n",
       "  </tbody>\n",
       "</table>\n",
       "<p>366 rows × 6 columns</p>\n",
       "</div>"
      ],
      "text/plain": [
       "      1980  1990  2000  2010  2019  2020\n",
       "0    -5.36 -2.88 -7.14  5.64  1.76  0.02\n",
       "1    -5.52 -3.16 -1.65  2.49  1.04 -0.36\n",
       "2    -8.43 -2.55 -3.64 -4.17 -0.32 -0.40\n",
       "3   -10.33 -3.58 -4.06 -4.37 -2.11  1.54\n",
       "4    -3.56 -4.68 -3.60 -2.03 -1.31  1.43\n",
       "..     ...   ...   ...   ...   ...   ...\n",
       "361   0.41  1.69  5.07 -2.30  0.06   NaN\n",
       "362  -1.63  0.49  3.45 -2.15 -2.29   NaN\n",
       "363  -6.43  4.00  2.33 -1.53 -2.57   NaN\n",
       "364  -6.55  3.95  0.14 -1.56  0.28   NaN\n",
       "365  -5.95   NaN -2.18   NaN   NaN   NaN\n",
       "\n",
       "[366 rows x 6 columns]"
      ]
     },
     "execution_count": 16,
     "metadata": {},
     "output_type": "execute_result"
    }
   ],
   "source": [
    "lj_leta = pd.concat([lj_1980, lj_1990, lj_2000, lj_2010, lj_2019, lj_2020], axis=1)\n",
    "lj_leta"
   ]
  },
  {
   "cell_type": "code",
   "execution_count": 17,
   "id": "73c0ddef",
   "metadata": {},
   "outputs": [
    {
     "name": "stdout",
     "output_type": "stream",
     "text": [
      "<class 'pandas.core.frame.DataFrame'>\n",
      "RangeIndex: 366 entries, 0 to 365\n",
      "Data columns (total 6 columns):\n",
      " #   Column  Non-Null Count  Dtype  \n",
      "---  ------  --------------  -----  \n",
      " 0   1980    366 non-null    float64\n",
      " 1   1990    365 non-null    float64\n",
      " 2   2000    366 non-null    float64\n",
      " 3   2010    365 non-null    float64\n",
      " 4   2019    365 non-null    float64\n",
      " 5   2020    274 non-null    float64\n",
      "dtypes: float64(6)\n",
      "memory usage: 17.3 KB\n",
      "None\n",
      "Int64Index([1990, 2010, 2019, 2020], dtype='int64')\n"
     ]
    }
   ],
   "source": [
    "print(lj_leta.info())\n",
    "print(lj_leta.columns[lj_leta.isna().any()])"
   ]
  },
  {
   "cell_type": "markdown",
   "id": "7bd10853",
   "metadata": {},
   "source": [
    "There are two reasons for years having different lengths:\n",
    "- Leap year: 1980, 2000\n",
    "- The last date of recorded data for 2020 is Sept 30 (274 days)"
   ]
  },
  {
   "cell_type": "code",
   "execution_count": 18,
   "id": "5cee0daf",
   "metadata": {},
   "outputs": [
    {
     "name": "stdout",
     "output_type": "stream",
     "text": [
      "1980 median:  7.975 \n",
      " 2019 median:  10.86\n"
     ]
    },
    {
     "data": {
      "image/png": "[encoded data removed]",
      "text/plain": [
       "<Figure size 864x576 with 1 Axes>"
      ]
     },
     "metadata": {
      "needs_background": "light"
     },
     "output_type": "display_data"
    }
   ],
   "source": [
    "plt.figure(figsize=(12,8))\n",
    "sns.histplot(data=lj_leta[[1980, 2019]], kde=True, common_norm=True)\n",
    "plt.xlabel('Daily temperature [°C]')\n",
    "plt.ylabel('Count')\n",
    "print('1980 median: ',lj_1980.median().tolist()[0], '\\n','2019 median: ',lj_2019.median().tolist()[0])"
   ]
  },
  {
   "cell_type": "markdown",
   "id": "f4108fae",
   "metadata": {},
   "source": [
    "**1980** seems to have to modes, with similar frequencies. The histogram is quite symmetric around the median (7.9°C). This corresponds to the well-balanced seasons.\\\n",
    "**2019** has an asymmetric distribution, where higher temperatures are more frequent than in the year 1980."
   ]
  },
  {
   "cell_type": "markdown",
   "id": "db7a2f5a",
   "metadata": {},
   "source": [
    "Because histogram could significantly vary with each year we choose to analyze, we can't form conclusions of all the data, based on only one comparison of two years. Now we compare distributions of all the years we are interested in, but because a histogram would get very busy and hard to read, we use boxplots."
   ]
  },
  {
   "cell_type": "code",
   "execution_count": 19,
   "id": "7e2dde3a",
   "metadata": {},
   "outputs": [
    {
     "data": {
      "text/plain": [
       "Text(0, 0.5, 'Temperature [°C]')"
      ]
     },
     "execution_count": 19,
     "metadata": {},
     "output_type": "execute_result"
    },
    {
     "data": {
      "image/png": "[encoded data removed]",
      "text/plain": [
       "<Figure size 864x576 with 1 Axes>"
      ]
     },
     "metadata": {
      "needs_background": "light"
     },
     "output_type": "display_data"
    }
   ],
   "source": [
    "plt.figure(figsize=(12,8))\n",
    "sns.boxplot(data=lj_leta)\n",
    "plt.xlabel('Year')\n",
    "plt.ylabel('Temperature [°C]')"
   ]
  },
  {
   "cell_type": "markdown",
   "id": "668ba86d",
   "metadata": {},
   "source": [
    "There seems to exist a slight trend in temperatures as the years progress, but because of the spread of the data and its dependance on particular year, we can't form conclusions just yet. To analyze trends in temperatures, we will preform a regression across mean temperature of each year. For this, we need to create a new dataframe."
   ]
  },
  {
   "cell_type": "markdown",
   "id": "96d02ff9",
   "metadata": {},
   "source": [
    "## Linear regression <a class=\"anchor\" id=\"section_2_2\"></a>"
   ]
  },
  {
   "cell_type": "markdown",
   "id": "83a52435",
   "metadata": {},
   "source": [
    "**Creating a new dataframe for Ljubljana**"
   ]
  },
  {
   "cell_type": "code",
   "execution_count": 20,
   "id": "c563dc79",
   "metadata": {},
   "outputs": [],
   "source": [
    "# Group data by years and calculate a mean for each year. Save values in a new dataframe.\n",
    "\n",
    "LJ = pd.DataFrame({'Tavg' : df.groupby(df.date.dt.year)['Ljubljana'].mean()}).reset_index() #reset index to cleanup the set"
   ]
  },
  {
   "cell_type": "markdown",
   "id": "e0365a1d",
   "metadata": {},
   "source": [
    "**Some aggregates**"
   ]
  },
  {
   "cell_type": "code",
   "execution_count": 21,
   "id": "29ff3bdb",
   "metadata": {},
   "outputs": [],
   "source": [
    "LJ_std = pd.DataFrame({'std': df.groupby(df.date.dt.year)['Ljubljana'].std(ddof=0)}).reset_index()\n",
    "LJ_median = pd.DataFrame({'median': df.groupby(df.date.dt.year)['Ljubljana'].median()}).reset_index()"
   ]
  },
  {
   "cell_type": "code",
   "execution_count": 22,
   "id": "3c54d6fe",
   "metadata": {},
   "outputs": [],
   "source": [
    "LJ.insert(2, 'median', LJ_median['median'])\n",
    "LJ.insert(2, 'std', LJ_std['std'])"
   ]
  },
  {
   "cell_type": "code",
   "execution_count": 23,
   "id": "44c1953a",
   "metadata": {},
   "outputs": [
    {
     "data": {
      "text/html": [
       "<div>\n",
       "<style scoped>\n",
       "    .dataframe tbody tr th:only-of-type {\n",
       "        vertical-align: middle;\n",
       "    }\n",
       "\n",
       "    .dataframe tbody tr th {\n",
       "        vertical-align: top;\n",
       "    }\n",
       "\n",
       "    .dataframe thead th {\n",
       "        text-align: right;\n",
       "    }\n",
       "</style>\n",
       "<table border=\"1\" class=\"dataframe\">\n",
       "  <thead>\n",
       "    <tr style=\"text-align: right;\">\n",
       "      <th></th>\n",
       "      <th>date</th>\n",
       "      <th>Tavg</th>\n",
       "      <th>std</th>\n",
       "      <th>median</th>\n",
       "    </tr>\n",
       "  </thead>\n",
       "  <tbody>\n",
       "    <tr>\n",
       "      <th>0</th>\n",
       "      <td>1980</td>\n",
       "      <td>7.837623</td>\n",
       "      <td>7.733123</td>\n",
       "      <td>7.975</td>\n",
       "    </tr>\n",
       "    <tr>\n",
       "      <th>1</th>\n",
       "      <td>1981</td>\n",
       "      <td>8.680959</td>\n",
       "      <td>8.280414</td>\n",
       "      <td>10.590</td>\n",
       "    </tr>\n",
       "    <tr>\n",
       "      <th>2</th>\n",
       "      <td>1982</td>\n",
       "      <td>9.334822</td>\n",
       "      <td>7.908429</td>\n",
       "      <td>9.590</td>\n",
       "    </tr>\n",
       "    <tr>\n",
       "      <th>3</th>\n",
       "      <td>1983</td>\n",
       "      <td>9.445726</td>\n",
       "      <td>8.180333</td>\n",
       "      <td>10.070</td>\n",
       "    </tr>\n",
       "    <tr>\n",
       "      <th>4</th>\n",
       "      <td>1984</td>\n",
       "      <td>8.385273</td>\n",
       "      <td>7.253825</td>\n",
       "      <td>9.560</td>\n",
       "    </tr>\n",
       "  </tbody>\n",
       "</table>\n",
       "</div>"
      ],
      "text/plain": [
       "   date      Tavg       std  median\n",
       "0  1980  7.837623  7.733123   7.975\n",
       "1  1981  8.680959  8.280414  10.590\n",
       "2  1982  9.334822  7.908429   9.590\n",
       "3  1983  9.445726  8.180333  10.070\n",
       "4  1984  8.385273  7.253825   9.560"
      ]
     },
     "execution_count": 23,
     "metadata": {},
     "output_type": "execute_result"
    }
   ],
   "source": [
    "LJ.head()"
   ]
  },
  {
   "cell_type": "code",
   "execution_count": 24,
   "id": "289bb794",
   "metadata": {},
   "outputs": [
    {
     "data": {
      "text/plain": [
       "<AxesSubplot:xlabel='date'>"
      ]
     },
     "execution_count": 24,
     "metadata": {},
     "output_type": "execute_result"
    },
    {
     "data": {
      "image/png": "[encoded data removed]",
      "text/plain": [
       "<Figure size 720x576 with 1 Axes>"
      ]
     },
     "metadata": {
      "needs_background": "light"
     },
     "output_type": "display_data"
    }
   ],
   "source": [
    "LJ.plot('date', 'Tavg', yerr='std', figsize=(10,8))"
   ]
  },
  {
   "cell_type": "markdown",
   "id": "411ad272",
   "metadata": {},
   "source": [
    "Standard deviation for each year is due to averaging the data. We see that there seems to be an upwards trend in temperatures, but due to deviation being large, trend may not exist."
   ]
  },
  {
   "cell_type": "markdown",
   "id": "244362da",
   "metadata": {},
   "source": [
    "### Correlation <a class=\"anchor\" id=\"sub_section_2_2_1\"></a>"
   ]
  },
  {
   "cell_type": "code",
   "execution_count": 30,
   "id": "daa6ed9e",
   "metadata": {},
   "outputs": [
    {
     "data": {
      "text/html": [
       "<div>\n",
       "<style scoped>\n",
       "    .dataframe tbody tr th:only-of-type {\n",
       "        vertical-align: middle;\n",
       "    }\n",
       "\n",
       "    .dataframe tbody tr th {\n",
       "        vertical-align: top;\n",
       "    }\n",
       "\n",
       "    .dataframe thead th {\n",
       "        text-align: right;\n",
       "    }\n",
       "</style>\n",
       "<table border=\"1\" class=\"dataframe\">\n",
       "  <thead>\n",
       "    <tr style=\"text-align: right;\">\n",
       "      <th></th>\n",
       "      <th>date</th>\n",
       "      <th>Tavg</th>\n",
       "    </tr>\n",
       "  </thead>\n",
       "  <tbody>\n",
       "    <tr>\n",
       "      <th>date</th>\n",
       "      <td>1.00000</td>\n",
       "      <td>0.80982</td>\n",
       "    </tr>\n",
       "    <tr>\n",
       "      <th>Tavg</th>\n",
       "      <td>0.80982</td>\n",
       "      <td>1.00000</td>\n",
       "    </tr>\n",
       "  </tbody>\n",
       "</table>\n",
       "</div>"
      ],
      "text/plain": [
       "         date     Tavg\n",
       "date  1.00000  0.80982\n",
       "Tavg  0.80982  1.00000"
      ]
     },
     "execution_count": 30,
     "metadata": {},
     "output_type": "execute_result"
    }
   ],
   "source": [
    "# Correlation between time and temperature:\n",
    "# For a linear relationship between variables, we look at the Pearson correlation coefficient.\n",
    "\n",
    "LJ[['date', 'Tavg']].corr(method='pearson')"
   ]
  },
  {
   "cell_type": "markdown",
   "id": "661d77ff",
   "metadata": {},
   "source": [
    "There seems to be a high positive correlation between time and temperature $(0.7 < r < 0.9)$.\\\n",
    "We will determine if the correlation is significant by performing a linear regression and hypothesis testing."
   ]
  },
  {
   "cell_type": "markdown",
   "id": "771c9351",
   "metadata": {},
   "source": [
    "### Linear regression <a class='anchor' id='sub_section_2_2_2'></a>"
   ]
  },
  {
   "cell_type": "markdown",
   "id": "dccf01bd",
   "metadata": {},
   "source": [
    "Question: Is Ljubljana heating up?\\\n",
    "$H_0$: Average yearly temperature of Ljubljana didn't significantly change in the last 40 years. (slope of regression = 0)\\\n",
    "$H_1$: Average yearly temperature of Ljubljana has significantly changed.\n",
    "\n",
    "Significance threshold = 0.05"
   ]
  },
  {
   "cell_type": "code",
   "execution_count": 31,
   "id": "11c2c043",
   "metadata": {},
   "outputs": [
    {
     "data": {
      "text/plain": [
       "Intercept   -123.398942\n",
       "date           0.066641\n",
       "dtype: float64"
      ]
     },
     "execution_count": 31,
     "metadata": {},
     "output_type": "execute_result"
    }
   ],
   "source": [
    "model = sm.OLS.from_formula('Tavg ~ date', data = LJ)\n",
    "results = model.fit()\n",
    "results.params"
   ]
  },
  {
   "cell_type": "code",
   "execution_count": 33,
   "id": "af1d263d",
   "metadata": {},
   "outputs": [],
   "source": [
    "results.params[0]\n",
    "yrs = list(range(len(LJ['date'])))"
   ]
  },
  {
   "cell_type": "code",
   "execution_count": 34,
   "id": "faa16ac9",
   "metadata": {},
   "outputs": [],
   "source": [
    "reg_line = list(results.params[1]*LJ['date'] + results.params[0])"
   ]
  },
  {
   "cell_type": "code",
   "execution_count": 58,
   "id": "9ecf40c4",
   "metadata": {},
   "outputs": [
    {
     "data": {
      "text/plain": [
       "<matplotlib.legend.Legend at 0x2011d7b10a0>"
      ]
     },
     "execution_count": 58,
     "metadata": {},
     "output_type": "execute_result"
    },
    {
     "data": {
      "image/png": "[encoded data removed]",
      "text/plain": [
       "<Figure size 720x576 with 1 Axes>"
      ]
     },
     "metadata": {
      "needs_background": "light"
     },
     "output_type": "display_data"
    }
   ],
   "source": [
    "plt.figure(figsize=(10,8))\n",
    "plt.plot(LJ['date'], reg_line, c='r', label='Regression')\n",
    "plt.scatter(LJ['date'], LJ['Tavg'], label='Yearly average')\n",
    "plt.xlabel('Year')\n",
    "plt.ylabel('Temperature [°C]')\n",
    "plt.title('Linear regression on Ljubljana\\'s temeperature data')\n",
    "plt.legend()"
   ]
  },
  {
   "cell_type": "code",
   "execution_count": 36,
   "id": "8e182075",
   "metadata": {},
   "outputs": [
    {
     "data": {
      "text/html": [
       "<table class=\"simpletable\">\n",
       "<caption>OLS Regression Results</caption>\n",
       "<tr>\n",
       "  <th>Dep. Variable:</th>          <td>Tavg</td>       <th>  R-squared:         </th> <td>   0.656</td>\n",
       "</tr>\n",
       "<tr>\n",
       "  <th>Model:</th>                   <td>OLS</td>       <th>  Adj. R-squared:    </th> <td>   0.647</td>\n",
       "</tr>\n",
       "<tr>\n",
       "  <th>Method:</th>             <td>Least Squares</td>  <th>  F-statistic:       </th> <td>   74.31</td>\n",
       "</tr>\n",
       "<tr>\n",
       "  <th>Date:</th>             <td>Fri, 07 Apr 2023</td> <th>  Prob (F-statistic):</th> <td>1.44e-10</td>\n",
       "</tr>\n",
       "<tr>\n",
       "  <th>Time:</th>                 <td>17:13:24</td>     <th>  Log-Likelihood:    </th> <td> -35.219</td>\n",
       "</tr>\n",
       "<tr>\n",
       "  <th>No. Observations:</th>      <td>    41</td>      <th>  AIC:               </th> <td>   74.44</td>\n",
       "</tr>\n",
       "<tr>\n",
       "  <th>Df Residuals:</th>          <td>    39</td>      <th>  BIC:               </th> <td>   77.86</td>\n",
       "</tr>\n",
       "<tr>\n",
       "  <th>Df Model:</th>              <td>     1</td>      <th>                     </th>     <td> </td>   \n",
       "</tr>\n",
       "<tr>\n",
       "  <th>Covariance Type:</th>      <td>nonrobust</td>    <th>                     </th>     <td> </td>   \n",
       "</tr>\n",
       "</table>\n",
       "<table class=\"simpletable\">\n",
       "<tr>\n",
       "      <td></td>         <th>coef</th>     <th>std err</th>      <th>t</th>      <th>P>|t|</th>  <th>[0.025</th>    <th>0.975]</th>  \n",
       "</tr>\n",
       "<tr>\n",
       "  <th>Intercept</th> <td> -123.3989</td> <td>   15.462</td> <td>   -7.981</td> <td> 0.000</td> <td> -154.674</td> <td>  -92.124</td>\n",
       "</tr>\n",
       "<tr>\n",
       "  <th>date</th>      <td>    0.0666</td> <td>    0.008</td> <td>    8.620</td> <td> 0.000</td> <td>    0.051</td> <td>    0.082</td>\n",
       "</tr>\n",
       "</table>\n",
       "<table class=\"simpletable\">\n",
       "<tr>\n",
       "  <th>Omnibus:</th>       <td> 0.148</td> <th>  Durbin-Watson:     </th> <td>   1.599</td>\n",
       "</tr>\n",
       "<tr>\n",
       "  <th>Prob(Omnibus):</th> <td> 0.929</td> <th>  Jarque-Bera (JB):  </th> <td>   0.021</td>\n",
       "</tr>\n",
       "<tr>\n",
       "  <th>Skew:</th>          <td> 0.046</td> <th>  Prob(JB):          </th> <td>   0.990</td>\n",
       "</tr>\n",
       "<tr>\n",
       "  <th>Kurtosis:</th>      <td> 2.939</td> <th>  Cond. No.          </th> <td>3.38e+05</td>\n",
       "</tr>\n",
       "</table><br/><br/>Notes:<br/>[1] Standard Errors assume that the covariance matrix of the errors is correctly specified.<br/>[2] The condition number is large, 3.38e+05. This might indicate that there are<br/>strong multicollinearity or other numerical problems."
      ],
      "text/plain": [
       "<class 'statsmodels.iolib.summary.Summary'>\n",
       "\"\"\"\n",
       "                            OLS Regression Results                            \n",
       "==============================================================================\n",
       "Dep. Variable:                   Tavg   R-squared:                       0.656\n",
       "Model:                            OLS   Adj. R-squared:                  0.647\n",
       "Method:                 Least Squares   F-statistic:                     74.31\n",
       "Date:                Fri, 07 Apr 2023   Prob (F-statistic):           1.44e-10\n",
       "Time:                        17:13:24   Log-Likelihood:                -35.219\n",
       "No. Observations:                  41   AIC:                             74.44\n",
       "Df Residuals:                      39   BIC:                             77.86\n",
       "Df Model:                           1                                         \n",
       "Covariance Type:            nonrobust                                         \n",
       "==============================================================================\n",
       "                 coef    std err          t      P>|t|      [0.025      0.975]\n",
       "------------------------------------------------------------------------------\n",
       "Intercept   -123.3989     15.462     -7.981      0.000    -154.674     -92.124\n",
       "date           0.0666      0.008      8.620      0.000       0.051       0.082\n",
       "==============================================================================\n",
       "Omnibus:                        0.148   Durbin-Watson:                   1.599\n",
       "Prob(Omnibus):                  0.929   Jarque-Bera (JB):                0.021\n",
       "Skew:                           0.046   Prob(JB):                        0.990\n",
       "Kurtosis:                       2.939   Cond. No.                     3.38e+05\n",
       "==============================================================================\n",
       "\n",
       "Notes:\n",
       "[1] Standard Errors assume that the covariance matrix of the errors is correctly specified.\n",
       "[2] The condition number is large, 3.38e+05. This might indicate that there are\n",
       "strong multicollinearity or other numerical problems.\n",
       "\"\"\""
      ]
     },
     "execution_count": 36,
     "metadata": {},
     "output_type": "execute_result"
    }
   ],
   "source": [
    "results.summary()"
   ]
  },
  {
   "cell_type": "markdown",
   "id": "f928c5c1",
   "metadata": {},
   "source": [
    "**p-values**: In the summary table, we can see that P-value for both parameters is approximately 0. Because p-value is outside of the confidence intervals, we reject the null hypothesis $H_0$."
   ]
  },
  {
   "cell_type": "markdown",
   "id": "11a7e76b",
   "metadata": {},
   "source": [
    "**F-statistic**: This statistic tells us the goodness of fit of a regression. If the probability of $F=74.31$ is close to zero $(1.44\\cdot10^{-10})$ we can reject the null hypothesis."
   ]
  },
  {
   "cell_type": "markdown",
   "id": "5eb057de",
   "metadata": {},
   "source": [
    "**Conclusion:** We reject the null hypothesis. Ljubljana's average temperature significantly changed in the last 40 years.\n"
   ]
  },
  {
   "cell_type": "markdown",
   "id": "5a20a337",
   "metadata": {},
   "source": [
    "### Assumptions of regression <a class='chapter' id='sub_section_2_2_3'></a>"
   ]
  },
  {
   "cell_type": "code",
   "execution_count": null,
   "id": "11a5800e",
   "metadata": {},
   "outputs": [],
   "source": [
    "# https://ethanweed.github.io/pythonbook/05.04-regression.html#hypothesis-tests-for-regression-models"
   ]
  },
  {
   "cell_type": "markdown",
   "id": "bc314351",
   "metadata": {},
   "source": [
    "**Checking the normality of the residuals**"
   ]
  },
  {
   "cell_type": "code",
   "execution_count": 45,
   "id": "81b5431e",
   "metadata": {},
   "outputs": [
    {
     "data": {
      "text/plain": [
       "<AxesSubplot:xlabel='Residuals', ylabel='Count'>"
      ]
     },
     "execution_count": 45,
     "metadata": {},
     "output_type": "execute_result"
    },
    {
     "data": {
      "image/png": "[encoded data removed]",
      "text/plain": [
       "<Figure size 432x288 with 1 Axes>"
      ]
     },
     "metadata": {
      "needs_background": "light"
     },
     "output_type": "display_data"
    }
   ],
   "source": [
    "residuals = pd.DataFrame(results.resid, columns=['Residuals'])\n",
    "sns.histplot(data=residuals, x='Residuals')\n",
    "#sns.despine()"
   ]
  },
  {
   "cell_type": "code",
   "execution_count": 48,
   "id": "e323dd2a",
   "metadata": {},
   "outputs": [
    {
     "name": "stderr",
     "output_type": "stream",
     "text": [
      "C:\\ProgramData\\Anaconda3\\lib\\site-packages\\statsmodels\\graphics\\gofplots.py:993: UserWarning: marker is redundantly defined by the 'marker' keyword argument and the fmt string \"bo\" (-> marker='o'). The keyword argument will take precedence.\n",
      "  ax.plot(x, y, fmt, **plot_style)\n"
     ]
    },
    {
     "data": {
      "image/png": "[encoded data removed]",
      "text/plain": [
       "<Figure size 432x288 with 1 Axes>"
      ]
     },
     "metadata": {
      "needs_background": "light"
     },
     "output_type": "display_data"
    }
   ],
   "source": [
    "res_fig = sm.qqplot(residuals['Residuals'], line='s')"
   ]
  },
  {
   "cell_type": "markdown",
   "id": "8c766bb5",
   "metadata": {},
   "source": [
    "If residuals were perfectly normally distributed, then they would lie wight on the red line.\\\n",
    "The Q-Q plot further confirms our conviction based on the histogram, that it is appropriate to model these data with linear regression."
   ]
  },
  {
   "cell_type": "markdown",
   "id": "cf01b943",
   "metadata": {},
   "source": [
    "**Checking homoscedasticity**"
   ]
  },
  {
   "cell_type": "markdown",
   "id": "e0427e31",
   "metadata": {},
   "source": [
    "The residuals have equal variation across all values of the predictor variable. If the homoscedasticity assumption is met, then this plot will look like a random splatter of points, centered around y=0."
   ]
  },
  {
   "cell_type": "code",
   "execution_count": 49,
   "id": "b27f26fa",
   "metadata": {},
   "outputs": [
    {
     "data": {
      "image/png": "[encoded data removed]",
      "text/plain": [
       "<Figure size 432x288 with 1 Axes>"
      ]
     },
     "metadata": {
      "needs_background": "light"
     },
     "output_type": "display_data"
    }
   ],
   "source": [
    "plt.scatter(reg_line, residuals)\n",
    "plt.xlabel('Predicted values')\n",
    "plt.ylabel('Residuals')\n",
    "plt.axhline(y=0, ls='--', c='k')\n",
    "plt.show()"
   ]
  }
 ],
 "metadata": {
  "kernelspec": {
   "display_name": "Python 3 (ipykernel)",
   "language": "python",
   "name": "python3"
  },
  "language_info": {
   "codemirror_mode": {
    "name": "ipython",
    "version": 3
   },
   "file_extension": ".py",
   "mimetype": "text/x-python",
   "name": "python",
   "nbconvert_exporter": "python",
   "pygments_lexer": "ipython3",
   "version": "3.8.12"
  }
 },
 "nbformat": 4,
 "nbformat_minor": 5
}
